{
 "cells": [
  {
   "cell_type": "code",
   "execution_count": 17,
   "id": "4ba2dc98",
   "metadata": {},
   "outputs": [],
   "source": [
    "import os"
   ]
  },
  {
   "cell_type": "code",
   "execution_count": 18,
   "id": "933cb710",
   "metadata": {},
   "outputs": [],
   "source": [
    "path ='/media/surya/5280CB9F80CB87C5/data/m1474000/ROIs2017_winter/s2_21/ROIs2017_winter_s2_21_p105.tif'"
   ]
  },
  {
   "cell_type": "code",
   "execution_count": 19,
   "id": "8e11ed7e",
   "metadata": {},
   "outputs": [],
   "source": [
    "from tifffile import tifffile\n",
    "image = tifffile.imread(path)"
   ]
  },
  {
   "cell_type": "code",
   "execution_count": 20,
   "id": "b91457fd",
   "metadata": {},
   "outputs": [
    {
     "data": {
      "text/plain": [
       "(256, 256, 13)"
      ]
     },
     "execution_count": 20,
     "metadata": {},
     "output_type": "execute_result"
    }
   ],
   "source": [
    "image.shape"
   ]
  },
  {
   "cell_type": "code",
   "execution_count": 21,
   "id": "a6b8ea06",
   "metadata": {},
   "outputs": [
    {
     "data": {
      "text/plain": [
       "(256, 256, 3)"
      ]
     },
     "execution_count": 21,
     "metadata": {},
     "output_type": "execute_result"
    }
   ],
   "source": [
    "data = image[:,:,3:0:-1]\n",
    "data.shape"
   ]
  },
  {
   "cell_type": "code",
   "execution_count": 22,
   "id": "75a4a619",
   "metadata": {},
   "outputs": [],
   "source": [
    "from PIL import Image\n",
    "import cv2"
   ]
  },
  {
   "cell_type": "code",
   "execution_count": 23,
   "id": "649b9633",
   "metadata": {},
   "outputs": [],
   "source": [
    "\n",
    "img = Image.fromarray(data,'RGB')\n"
   ]
  },
  {
   "cell_type": "code",
   "execution_count": 24,
   "id": "f0d8a0d3",
   "metadata": {},
   "outputs": [],
   "source": [
    "img.save('my1.jpeg')\n"
   ]
  },
  {
   "cell_type": "code",
   "execution_count": 25,
   "id": "395064a6",
   "metadata": {},
   "outputs": [],
   "source": [
    "img.show()"
   ]
  },
  {
   "cell_type": "code",
   "execution_count": 28,
   "id": "af10d66c",
   "metadata": {},
   "outputs": [
    {
     "name": "stdout",
     "output_type": "stream",
     "text": [
      "\u001b[33mDEPRECATION: Configuring installation scheme with distutils config files is deprecated and will no longer work in the near future. If you are using a Homebrew or Linuxbrew Python, please see discussion at https://github.com/Homebrew/homebrew-core/issues/76621\u001b[0m\n",
      "Collecting osgeo\n",
      "  Using cached osgeo-0.0.1.tar.gz (1.2 kB)\n",
      "  Preparing metadata (setup.py) ... \u001b[?25ldone\n",
      "\u001b[?25hBuilding wheels for collected packages: osgeo\n",
      "  Building wheel for osgeo (setup.py) ... \u001b[?25lerror\n",
      "\u001b[31m  ERROR: Command errored out with exit status 1:\n",
      "   command: /home/linuxbrew/.linuxbrew/opt/python@3.9/bin/python3.9 -u -c 'import io, os, sys, setuptools, tokenize; sys.argv[0] = '\"'\"'/tmp/pip-install-9rb3gggo/osgeo_79ba6402365649a68dca3094a70698e1/setup.py'\"'\"'; __file__='\"'\"'/tmp/pip-install-9rb3gggo/osgeo_79ba6402365649a68dca3094a70698e1/setup.py'\"'\"';f = getattr(tokenize, '\"'\"'open'\"'\"', open)(__file__) if os.path.exists(__file__) else io.StringIO('\"'\"'from setuptools import setup; setup()'\"'\"');code = f.read().replace('\"'\"'\\r\\n'\"'\"', '\"'\"'\\n'\"'\"');f.close();exec(compile(code, __file__, '\"'\"'exec'\"'\"'))' bdist_wheel -d /tmp/pip-wheel-ktcu1jh_\n",
      "       cwd: /tmp/pip-install-9rb3gggo/osgeo_79ba6402365649a68dca3094a70698e1/\n",
      "  Complete output (27 lines):\n",
      "  running bdist_wheel\n",
      "  running build\n",
      "  installing to build/bdist.linux-x86_64/wheel\n",
      "  running install\n",
      "  Traceback (most recent call last):\n",
      "    File \"<string>\", line 1, in <module>\n",
      "    File \"/tmp/pip-install-9rb3gggo/osgeo_79ba6402365649a68dca3094a70698e1/setup.py\", line 32, in <module>\n",
      "      setup(\n",
      "    File \"/home/linuxbrew/.linuxbrew/opt/python@3.9/lib/python3.9/site-packages/setuptools/__init__.py\", line 153, in setup\n",
      "      return distutils.core.setup(**attrs)\n",
      "    File \"/home/linuxbrew/.linuxbrew/opt/python@3.9/lib/python3.9/distutils/core.py\", line 148, in setup\n",
      "      dist.run_commands()\n",
      "    File \"/home/linuxbrew/.linuxbrew/opt/python@3.9/lib/python3.9/distutils/dist.py\", line 966, in run_commands\n",
      "      self.run_command(cmd)\n",
      "    File \"/home/linuxbrew/.linuxbrew/opt/python@3.9/lib/python3.9/distutils/dist.py\", line 985, in run_command\n",
      "      cmd_obj.run()\n",
      "    File \"/home/linuxbrew/.linuxbrew/opt/python@3.9/lib/python3.9/site-packages/wheel/bdist_wheel.py\", line 335, in run\n",
      "      self.run_command('install')\n",
      "    File \"/home/linuxbrew/.linuxbrew/opt/python@3.9/lib/python3.9/distutils/cmd.py\", line 313, in run_command\n",
      "      self.distribution.run_command(command)\n",
      "    File \"/home/linuxbrew/.linuxbrew/opt/python@3.9/lib/python3.9/distutils/dist.py\", line 985, in run_command\n",
      "      cmd_obj.run()\n",
      "    File \"/tmp/pip-install-9rb3gggo/osgeo_79ba6402365649a68dca3094a70698e1/setup.py\", line 27, in run\n",
      "      raise Exception(error_msg)\n",
      "  Exception: In order to be able to run `from osgeo import gdal`,\n",
      "  You were probably trying to install `gdal` by running `pip install osgeo`.\n",
      "  Instead, you should either `pip install gdal` or replace `osgeo` with `gdal` in your requirements.\n",
      "  ----------------------------------------\u001b[0m\n",
      "\u001b[31m  ERROR: Failed building wheel for osgeo\u001b[0m\n",
      "\u001b[?25h  Running setup.py clean for osgeo\n",
      "Failed to build osgeo\n",
      "Installing collected packages: osgeo\n",
      "\u001b[33m  DEPRECATION: Configuring installation scheme with distutils config files is deprecated and will no longer work in the near future. If you are using a Homebrew or Linuxbrew Python, please see discussion at https://github.com/Homebrew/homebrew-core/issues/76621\u001b[0m\n",
      "    Running setup.py install for osgeo ... \u001b[?25lerror\n",
      "\u001b[31m    ERROR: Command errored out with exit status 1:\n",
      "     command: /home/linuxbrew/.linuxbrew/opt/python@3.9/bin/python3.9 -u -c 'import io, os, sys, setuptools, tokenize; sys.argv[0] = '\"'\"'/tmp/pip-install-9rb3gggo/osgeo_79ba6402365649a68dca3094a70698e1/setup.py'\"'\"'; __file__='\"'\"'/tmp/pip-install-9rb3gggo/osgeo_79ba6402365649a68dca3094a70698e1/setup.py'\"'\"';f = getattr(tokenize, '\"'\"'open'\"'\"', open)(__file__) if os.path.exists(__file__) else io.StringIO('\"'\"'from setuptools import setup; setup()'\"'\"');code = f.read().replace('\"'\"'\\r\\n'\"'\"', '\"'\"'\\n'\"'\"');f.close();exec(compile(code, __file__, '\"'\"'exec'\"'\"'))' install --record /tmp/pip-record-d989oz06/install-record.txt --single-version-externally-managed --compile --install-headers /home/linuxbrew/.linuxbrew/include/python3.9/osgeo\n",
      "         cwd: /tmp/pip-install-9rb3gggo/osgeo_79ba6402365649a68dca3094a70698e1/\n",
      "    Complete output (18 lines):\n",
      "    running install\n",
      "    Traceback (most recent call last):\n",
      "      File \"<string>\", line 1, in <module>\n",
      "      File \"/tmp/pip-install-9rb3gggo/osgeo_79ba6402365649a68dca3094a70698e1/setup.py\", line 32, in <module>\n",
      "        setup(\n",
      "      File \"/home/linuxbrew/.linuxbrew/opt/python@3.9/lib/python3.9/site-packages/setuptools/__init__.py\", line 153, in setup\n",
      "        return distutils.core.setup(**attrs)\n",
      "      File \"/home/linuxbrew/.linuxbrew/opt/python@3.9/lib/python3.9/distutils/core.py\", line 148, in setup\n",
      "        dist.run_commands()\n",
      "      File \"/home/linuxbrew/.linuxbrew/opt/python@3.9/lib/python3.9/distutils/dist.py\", line 966, in run_commands\n",
      "        self.run_command(cmd)\n",
      "      File \"/home/linuxbrew/.linuxbrew/opt/python@3.9/lib/python3.9/distutils/dist.py\", line 985, in run_command\n",
      "        cmd_obj.run()\n",
      "      File \"/tmp/pip-install-9rb3gggo/osgeo_79ba6402365649a68dca3094a70698e1/setup.py\", line 27, in run\n",
      "        raise Exception(error_msg)\n",
      "    Exception: In order to be able to run `from osgeo import gdal`,\n",
      "    You were probably trying to install `gdal` by running `pip install osgeo`.\n",
      "    Instead, you should either `pip install gdal` or replace `osgeo` with `gdal` in your requirements.\n",
      "    ----------------------------------------\u001b[0m\n",
      "\u001b[31mERROR: Command errored out with exit status 1: /home/linuxbrew/.linuxbrew/opt/python@3.9/bin/python3.9 -u -c 'import io, os, sys, setuptools, tokenize; sys.argv[0] = '\"'\"'/tmp/pip-install-9rb3gggo/osgeo_79ba6402365649a68dca3094a70698e1/setup.py'\"'\"'; __file__='\"'\"'/tmp/pip-install-9rb3gggo/osgeo_79ba6402365649a68dca3094a70698e1/setup.py'\"'\"';f = getattr(tokenize, '\"'\"'open'\"'\"', open)(__file__) if os.path.exists(__file__) else io.StringIO('\"'\"'from setuptools import setup; setup()'\"'\"');code = f.read().replace('\"'\"'\\r\\n'\"'\"', '\"'\"'\\n'\"'\"');f.close();exec(compile(code, __file__, '\"'\"'exec'\"'\"'))' install --record /tmp/pip-record-d989oz06/install-record.txt --single-version-externally-managed --compile --install-headers /home/linuxbrew/.linuxbrew/include/python3.9/osgeo Check the logs for full command output.\u001b[0m\n",
      "\u001b[33mWARNING: You are using pip version 21.3.1; however, version 22.1.2 is available.\n",
      "You should consider upgrading via the '/home/linuxbrew/.linuxbrew/opt/python@3.9/bin/python3.9 -m pip install --upgrade pip' command.\u001b[0m\n",
      "\u001b[?25h"
     ]
    }
   ],
   "source": [
    "!pip install osgeo\n"
   ]
  },
  {
   "cell_type": "code",
   "execution_count": 26,
   "id": "04c2ca3d",
   "metadata": {},
   "outputs": [
    {
     "ename": "ModuleNotFoundError",
     "evalue": "No module named 'osgeo'",
     "output_type": "error",
     "traceback": [
      "\u001b[0;31m---------------------------------------------------------------------------\u001b[0m",
      "\u001b[0;31mModuleNotFoundError\u001b[0m                       Traceback (most recent call last)",
      "\u001b[0;32m<ipython-input-26-512c799a42b1>\u001b[0m in \u001b[0;36m<module>\u001b[0;34m\u001b[0m\n\u001b[0;32m----> 1\u001b[0;31m \u001b[0;32mfrom\u001b[0m \u001b[0mosgeo\u001b[0m \u001b[0;32mimport\u001b[0m \u001b[0mgdal\u001b[0m\u001b[0;34m\u001b[0m\u001b[0;34m\u001b[0m\u001b[0m\n\u001b[0m\u001b[1;32m      2\u001b[0m \u001b[0;34m\u001b[0m\u001b[0m\n\u001b[1;32m      3\u001b[0m \u001b[0mdataset\u001b[0m \u001b[0;34m=\u001b[0m \u001b[0mgdal\u001b[0m\u001b[0;34m.\u001b[0m\u001b[0mOpen\u001b[0m\u001b[0;34m(\u001b[0m\u001b[0mpath\u001b[0m\u001b[0;34m,\u001b[0m \u001b[0mgdal\u001b[0m\u001b[0;34m.\u001b[0m\u001b[0mGA_ReadOnly\u001b[0m\u001b[0;34m)\u001b[0m\u001b[0;34m\u001b[0m\u001b[0;34m\u001b[0m\u001b[0m\n",
      "\u001b[0;31mModuleNotFoundError\u001b[0m: No module named 'osgeo'"
     ]
    }
   ],
   "source": [
    "from osgeo import gdal\n",
    "\n",
    "dataset = gdal.Open(path, gdal.GA_ReadOnly)"
   ]
  },
  {
   "cell_type": "code",
   "execution_count": null,
   "id": "b6995a57",
   "metadata": {},
   "outputs": [],
   "source": []
  }
 ],
 "metadata": {
  "kernelspec": {
   "display_name": "Python 3",
   "language": "python",
   "name": "python3"
  },
  "language_info": {
   "codemirror_mode": {
    "name": "ipython",
    "version": 3
   },
   "file_extension": ".py",
   "mimetype": "text/x-python",
   "name": "python",
   "nbconvert_exporter": "python",
   "pygments_lexer": "ipython3",
   "version": "3.8.10"
  }
 },
 "nbformat": 4,
 "nbformat_minor": 5
}
