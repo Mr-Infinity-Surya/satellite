{
 "cells": [
  {
   "cell_type": "code",
   "execution_count": 33,
   "id": "3a6f8c1e",
   "metadata": {},
   "outputs": [
    {
     "name": "stdout",
     "output_type": "stream",
     "text": [
      "Spring: 46 scenes with a total of 31825 patches\n",
      "Time Taken 0.009620904922485352s\n",
      "S2 RGB: (3, 256, 256) Bounds: BoundingBox(left=286708.59690667305, bottom=1955986.7011730664, right=289268.59690667305, top=1958546.7011730664)\n",
      "\n",
      "\n",
      "Scene: 130, S1: (2, 256, 256), S2: (3, 256, 256), LC: (1, 256, 256), Bounds: BoundingBox(left=274598.27433181216, bottom=3464252.2486344567, right=277158.27433181216, top=3466812.2486344567)\n",
      "Scene: 132, S1: (2, 256, 256), S2: (3, 256, 256), LC: (1, 256, 256), Bounds: BoundingBox(left=417315.8856628932, bottom=4609003.372648937, right=419875.8856628932, top=4611563.372648937)\n",
      "Scene: 135, S1: (2, 256, 256), S2: (3, 256, 256), LC: (1, 256, 256), Bounds: BoundingBox(left=503687.0599283026, bottom=4315541.759620809, right=506247.0599283026, top=4318101.759620809)\n",
      "Time Taken 0.051393985748291016s\n",
      "\n",
      "\n",
      "Scene: 104, S1: (784, 2, 256, 256), S2: (784, 3, 256, 256), LC: (784, 4, 256, 256)\n",
      "Time Taken 13.611506700515747s\n"
     ]
    }
   ],
   "source": [
    "\"\"\"\n",
    "    Generic data loading routines for the SEN12MS dataset of corresponding Sentinel 1,\n",
    "    Sentinel 2 and Modis LandCover data.\n",
    "\n",
    "    The SEN12MS class is meant to provide a set of helper routines for loading individual\n",
    "    image patches as well as triplets of patches from the dataset. These routines can easily\n",
    "    be wrapped or extended for use with many deep learning frameworks or as standalone helper \n",
    "    methods. For an example use case please see the \"main\" routine at the end of this file.\n",
    "\n",
    "    NOTE: Some folder/file existence and validity checks are implemented but it is \n",
    "          by no means complete.\n",
    "\n",
    "    Author: Lloyd Hughes (lloyd.hughes@tum.de)\n",
    "\"\"\"\n",
    "\n",
    "import os\n",
    "import rasterio\n",
    "\n",
    "import numpy as np\n",
    "\n",
    "from enum import Enum\n",
    "from glob import glob\n",
    "\n",
    "\n",
    "class S1Bands(Enum):\n",
    "    VV = 1\n",
    "    VH = 2\n",
    "    ALL = [VV, VH]\n",
    "    NONE = []\n",
    "\n",
    "\n",
    "class S2Bands(Enum):\n",
    "    B01 = aerosol = 1\n",
    "    B02 = blue = 2\n",
    "    B03 = green = 3\n",
    "    B04 = red = 4\n",
    "    B05 = re1 = 5\n",
    "    B06 = re2 = 6\n",
    "    B07 = re3 = 7\n",
    "    B08 = nir1 = 8\n",
    "    B08A = nir2 = 9\n",
    "    B09 = vapor = 10\n",
    "    B10 = cirrus = 11\n",
    "    B11 = swir1 = 12\n",
    "    B12 = swir2 = 13\n",
    "    ALL = [B01, B02, B03, B04, B05, B06, B07, B08, B08A, B09, B10, B11, B12]\n",
    "    RGB = [B04, B03, B02]\n",
    "    NONE = []\n",
    "\n",
    "\n",
    "class LCBands(Enum):\n",
    "    IGBP = igbp = 1\n",
    "    LCCS1 = landcover = 2\n",
    "    LCCS2 = landuse = 3\n",
    "    LCCS3 = hydrology = 4\n",
    "    ALL = [IGBP, LCCS1, LCCS2, LCCS3]\n",
    "    NONE = []\n",
    "\n",
    "\n",
    "class Seasons(Enum):\n",
    "    SPRING = \"ROIs1158_spring\"\n",
    "    SUMMER = \"ROIs1868_summer\"\n",
    "    FALL = \"ROIs1970_fall\"\n",
    "    WINTER = \"ROIs2017_winter\"\n",
    "    ALL = [SPRING, SUMMER, FALL, WINTER]\n",
    "\n",
    "\n",
    "class Sensor(Enum):\n",
    "    s1 = \"s1\"\n",
    "    s2 = \"s2\"\n",
    "    lc = \"lc\"\n",
    "\n",
    "# Note: The order in which you request the bands is the same order they will be returned in.\n",
    "\n",
    "\n",
    "class SEN12MSDataset:\n",
    "    def __init__(self, base_dir):\n",
    "        self.base_dir = base_dir\n",
    "\n",
    "        if not os.path.exists(self.base_dir):\n",
    "            raise Exception(\n",
    "                \"The specified base_dir for SEN12MS dataset does not exist\")\n",
    "\n",
    "    \"\"\"\n",
    "        Returns a list of scene ids for a specific season.\n",
    "    \"\"\"\n",
    "\n",
    "    def get_scene_ids(self, season):\n",
    "        season = Seasons(season).value\n",
    "        path = os.path.join(self.base_dir, season)\n",
    "\n",
    "        if not os.path.exists(path):\n",
    "            raise NameError(\"Could not find season {} in base directory {}\".format(\n",
    "                season, self.base_dir))\n",
    "\n",
    "        scene_list = [os.path.basename(s)\n",
    "                      for s in glob(os.path.join(path, \"*\"))]\n",
    "        scene_list = [int(s.split('_')[1]) for s in scene_list]\n",
    "        return set(scene_list)\n",
    "\n",
    "    \"\"\"\n",
    "        Returns a list of patch ids for a specific scene within a specific season\n",
    "    \"\"\"\n",
    "\n",
    "    def get_patch_ids(self, season, scene_id):\n",
    "        season = Seasons(season).value\n",
    "        path = os.path.join(self.base_dir, season, f\"s1_{scene_id}\")\n",
    "\n",
    "        if not os.path.exists(path):\n",
    "            raise NameError(\n",
    "                \"Could not find scene {} within season {}\".format(scene_id, season))\n",
    "\n",
    "        patch_ids = [os.path.splitext(os.path.basename(p))[0]\n",
    "                     for p in glob(os.path.join(path, \"*\"))]\n",
    "        patch_ids = [int(p.rsplit(\"_\", 1)[1].split(\"p\")[1]) for p in patch_ids]\n",
    "\n",
    "        return patch_ids\n",
    "\n",
    "    \"\"\"\n",
    "        Return a dict of scene ids and their corresponding patch ids.\n",
    "        key => scene_ids, value => list of patch_ids\n",
    "    \"\"\"\n",
    "\n",
    "    def get_season_ids(self, season):\n",
    "        season = Seasons(season).value\n",
    "        ids = {}\n",
    "        scene_ids = self.get_scene_ids(season)\n",
    "\n",
    "        for sid in scene_ids:\n",
    "            ids[sid] = self.get_patch_ids(season, sid)\n",
    "\n",
    "        return ids\n",
    "\n",
    "    \"\"\"\n",
    "        Returns raster data and image bounds for the defined bands of a specific patch\n",
    "        This method only loads a sinlge patch from a single sensor as defined by the bands specified\n",
    "    \"\"\"\n",
    "\n",
    "    def get_patch(self, season, scene_id, patch_id, bands):\n",
    "        season = Seasons(season).value\n",
    "        sensor = None\n",
    "\n",
    "        if isinstance(bands, (list, tuple)):\n",
    "            b = bands[0]\n",
    "        else:\n",
    "            b = bands\n",
    "        \n",
    "        if isinstance(b, S1Bands):\n",
    "            sensor = Sensor.s1.value\n",
    "            bandEnum = S1Bands\n",
    "        elif isinstance(b, S2Bands):\n",
    "            sensor = Sensor.s2.value\n",
    "            bandEnum = S2Bands\n",
    "        elif isinstance(b, LCBands):\n",
    "            sensor = Sensor.lc.value\n",
    "            bandEnum = LCBands\n",
    "        else:\n",
    "            raise Exception(\"Invalid bands specified\")\n",
    "\n",
    "        if isinstance(bands, (list, tuple)):\n",
    "            bands = [b.value for b in bands]\n",
    "        else:\n",
    "            bands = bands.value\n",
    "\n",
    "        scene = \"{}_{}\".format(sensor, scene_id)\n",
    "        filename = \"{}_{}_p{}.tif\".format(season, scene, patch_id)\n",
    "        patch_path = os.path.join(self.base_dir, season, scene, filename)\n",
    "\n",
    "        with rasterio.open(patch_path) as patch:\n",
    "            data = patch.read(bands)\n",
    "            bounds = patch.bounds\n",
    "\n",
    "        if len(data.shape) == 2:\n",
    "            data = np.expand_dims(data, axis=0)\n",
    "\n",
    "        return data, bounds\n",
    "\n",
    "    \"\"\"\n",
    "        Returns a triplet of patches. S1, S2 and LC as well as the geo-bounds of the patch\n",
    "    \"\"\"\n",
    "\n",
    "    def get_s1s2lc_triplet(self, season, scene_id, patch_id, s1_bands=S1Bands.ALL, s2_bands=S2Bands.ALL, lc_bands=LCBands.ALL):\n",
    "        s1, bounds = self.get_patch(season, scene_id, patch_id, s1_bands)\n",
    "        s2, _ = self.get_patch(season, scene_id, patch_id, s2_bands)\n",
    "        lc, _ = self.get_patch(season, scene_id, patch_id, lc_bands)\n",
    "\n",
    "        return s1, s2, lc, bounds\n",
    "\n",
    "    \"\"\"\n",
    "        Returns a triplet of numpy arrays with dimensions D, B, W, H where D is the number of patches specified\n",
    "        using scene_ids and patch_ids and B is the number of bands for S1, S2 or LC\n",
    "    \"\"\"\n",
    "\n",
    "    def get_triplets(self, season, scene_ids=None, patch_ids=None, s1_bands=S1Bands.ALL, s2_bands=S2Bands.ALL, lc_bands=LCBands.ALL):\n",
    "        season = Seasons(season)\n",
    "        scene_list = []\n",
    "        patch_list = []\n",
    "        bounds = []\n",
    "        s1_data = []\n",
    "        s2_data = []\n",
    "        lc_data = []\n",
    "\n",
    "        # This is due to the fact that not all patch ids are available in all scenes\n",
    "        # And not all scenes exist in all seasons\n",
    "        if isinstance(scene_ids, list) and isinstance(patch_ids, list):\n",
    "            raise Exception(\"Only scene_ids or patch_ids can be a list, not both.\")\n",
    "\n",
    "        if scene_ids is None:\n",
    "            scene_list = self.get_scene_ids(season)\n",
    "        else:\n",
    "            try:\n",
    "                scene_list.extend(scene_ids)\n",
    "            except TypeError:\n",
    "                scene_list.append(scene_ids)\n",
    "\n",
    "        if patch_ids is not None:\n",
    "            try:\n",
    "                patch_list.extend(patch_ids)\n",
    "            except TypeError:\n",
    "                patch_list.append(patch_ids)\n",
    "\n",
    "        for sid in scene_list:\n",
    "            if patch_ids is None:\n",
    "                patch_list = self.get_patch_ids(season, sid)\n",
    "\n",
    "            for pid in patch_list:\n",
    "                s1, s2, lc, bound = self.get_s1s2lc_triplet(\n",
    "                    season, sid, pid, s1_bands, s2_bands, lc_bands)\n",
    "                s1_data.append(s1)\n",
    "                s2_data.append(s2)\n",
    "                lc_data.append(lc)\n",
    "                bounds.append(bound)\n",
    "\n",
    "        return np.stack(s1_data, axis=0), np.stack(s2_data, axis=0), np.stack(lc_data, axis=0), bounds\n",
    "\n",
    "\n",
    "if __name__ == \"__main__\":\n",
    "    import time\n",
    "    # Load the dataset specifying the base directory\n",
    "    sen12ms = SEN12MSDataset(\"/media/surya/5280CB9F80CB87C5/data/m1474000\")\n",
    "\n",
    "    spring_ids = sen12ms.get_season_ids(Seasons.WINTER)\n",
    "    cnt_patches = sum([len(pids) for pids in spring_ids.values()])\n",
    "    print(\"Spring: {} scenes with a total of {} patches\".format(\n",
    "        len(spring_ids), cnt_patches))\n",
    "\n",
    "    start = time.time()\n",
    "    # Load the RGB bands of the first S2 patch in scene 8\n",
    "    SCENE_ID = 8\n",
    "    s2_rgb_patch, bounds = sen12ms.get_patch(Seasons.WINTER, SCENE_ID, \n",
    "                                            spring_ids[SCENE_ID][0], bands=S2Bands.RGB)\n",
    "    print(\"Time Taken {}s\".format(time.time() - start))\n",
    "                                            \n",
    "    print(\"S2 RGB: {} Bounds: {}\".format(s2_rgb_patch.shape, bounds))\n",
    "\n",
    "    print(\"\\n\")\n",
    "\n",
    "    # Load a triplet of patches from the first three scenes of Spring - all S1 bands, NDVI S2 bands, and IGBP LC bands\n",
    "    i = 0\n",
    "    start = time.time()\n",
    "    for scene_id, patch_ids in spring_ids.items():\n",
    "        if i >= 3:\n",
    "            break\n",
    "\n",
    "        s1, s2, lc, bounds = sen12ms.get_s1s2lc_triplet(Seasons.WINTER, scene_id, patch_ids[0], s1_bands=S1Bands.ALL,\n",
    "                                                        s2_bands=S2Bands.RGB, lc_bands=LCBands.IGBP)\n",
    "        print(\n",
    "            f\"Scene: {scene_id}, S1: {s1.shape}, S2: {s2.shape}, LC: {lc.shape}, Bounds: {bounds}\")\n",
    "        i += 1\n",
    "\n",
    "    print(\"Time Taken {}s\".format(time.time() - start))\n",
    "    print(\"\\n\")\n",
    "\n",
    "    start = time.time()\n",
    "    # Load all bands of all patches in a specified scene (scene 106)\n",
    "    s1, s2, lc, _ = sen12ms.get_triplets(Seasons.WINTER, 8, s1_bands=S1Bands.ALL, \n",
    "                                        s2_bands=S2Bands.RGB, lc_bands=LCBands.ALL)\n",
    "\n",
    "    print(f\"Scene: 104, S1: {s1.shape}, S2: {s2.shape}, LC: {lc.shape}\")\n",
    "    print(\"Time Taken {}s\".format(time.time() - start))"
   ]
  },
  {
   "cell_type": "code",
   "execution_count": 42,
   "id": "3439c5c5",
   "metadata": {},
   "outputs": [
    {
     "data": {
      "text/plain": [
       "(784, 4, 256, 256)"
      ]
     },
     "execution_count": 42,
     "metadata": {},
     "output_type": "execute_result"
    }
   ],
   "source": [
    "lc.shape"
   ]
  },
  {
   "cell_type": "code",
   "execution_count": 43,
   "id": "28c0c4d9",
   "metadata": {},
   "outputs": [
    {
     "data": {
      "text/plain": [
       "(256, 256)"
      ]
     },
     "execution_count": 43,
     "metadata": {},
     "output_type": "execute_result"
    }
   ],
   "source": [
    "lcda = lc[1,1,:,:]\n",
    "lcda.shape"
   ]
  },
  {
   "cell_type": "code",
   "execution_count": 35,
   "id": "eb503502",
   "metadata": {},
   "outputs": [],
   "source": [
    "data = s2_rgb_patch.copy()"
   ]
  },
  {
   "cell_type": "code",
   "execution_count": 36,
   "id": "a4f0d6bd",
   "metadata": {},
   "outputs": [],
   "source": [
    "from PIL import Image"
   ]
  },
  {
   "cell_type": "code",
   "execution_count": 37,
   "id": "d1fb6c2c",
   "metadata": {},
   "outputs": [
    {
     "data": {
      "text/plain": [
       "(3, 256, 256)"
      ]
     },
     "execution_count": 37,
     "metadata": {},
     "output_type": "execute_result"
    }
   ],
   "source": [
    "data.shape"
   ]
  },
  {
   "cell_type": "code",
   "execution_count": 38,
   "id": "c5e46bcd",
   "metadata": {},
   "outputs": [
    {
     "data": {
      "text/plain": [
       "(256, 256, 3)"
      ]
     },
     "execution_count": 38,
     "metadata": {},
     "output_type": "execute_result"
    }
   ],
   "source": [
    "imageRGB_reshape = np.einsum('kij->ijk',data)\n",
    "imageRGB_reshape.shape"
   ]
  },
  {
   "cell_type": "code",
   "execution_count": 39,
   "id": "1f502c83",
   "metadata": {},
   "outputs": [],
   "source": [
    "img = Image.fromarray(imageRGB_reshape, 'RGB')\n"
   ]
  },
  {
   "cell_type": "code",
   "execution_count": 40,
   "id": "1083c238",
   "metadata": {},
   "outputs": [],
   "source": [
    "img.save('my.jpeg')\n"
   ]
  },
  {
   "cell_type": "code",
   "execution_count": 41,
   "id": "b8bafb73",
   "metadata": {},
   "outputs": [],
   "source": [
    "img.show()"
   ]
  },
  {
   "cell_type": "code",
   "execution_count": 32,
   "id": "be1ee289",
   "metadata": {},
   "outputs": [
    {
     "data": {
      "text/plain": [
       "(3, 256, 256)"
      ]
     },
     "execution_count": 32,
     "metadata": {},
     "output_type": "execute_result"
    }
   ],
   "source": [
    "s2_rgb_patch.shape"
   ]
  },
  {
   "cell_type": "code",
   "execution_count": null,
   "id": "248c7f03",
   "metadata": {},
   "outputs": [],
   "source": []
  }
 ],
 "metadata": {
  "kernelspec": {
   "display_name": "Python 3",
   "language": "python",
   "name": "python3"
  },
  "language_info": {
   "codemirror_mode": {
    "name": "ipython",
    "version": 3
   },
   "file_extension": ".py",
   "mimetype": "text/x-python",
   "name": "python",
   "nbconvert_exporter": "python",
   "pygments_lexer": "ipython3",
   "version": "3.8.10"
  }
 },
 "nbformat": 4,
 "nbformat_minor": 5
}
